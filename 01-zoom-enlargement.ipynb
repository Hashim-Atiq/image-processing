{
 "cells": [
  {
   "cell_type": "code",
   "execution_count": 3,
   "id": "3983725e-8860-4623-a70a-a4b64f039bb9",
   "metadata": {},
   "outputs": [],
   "source": [
    "import numpy as np\n",
    "from PIL import Image\n",
    "from scipy.signal import convolve"
   ]
  },
  {
   "cell_type": "code",
   "execution_count": 11,
   "id": "4ce62e42-a556-4db3-aab5-2c50b6609598",
   "metadata": {},
   "outputs": [],
   "source": [
    "def zero_order_upscale(filename, factor):\n",
    "    img_arr = np.asarray(Image.open(filename))\n",
    "\n",
    "    for k in range(factor):\n",
    "        if img_arr.ndim == 3:\n",
    "            zeros_arr = np.arange(1,img_arr.shape[0])\n",
    "        else:\n",
    "            zeros_arr = np.arange(1,img_arr.shape[0]-1)\n",
    "            \n",
    "        img_arr = np.insert(np.insert(img_arr, zeros_arr, 0, axis=1), zeros_arr, 0, axis=0)\n",
    "\n",
    "        if img_arr.ndim == 3:\n",
    "            r, c, colors = img_arr.shape\n",
    "        else:\n",
    "            r, c = img_arr.shape\n",
    "        \n",
    "        for i in range(0,r-1,2):\n",
    "            for j in range(0,c-1,2):\n",
    "                img_arr[i,j+1] = img_arr[i,j]\n",
    "                img_arr[i+1,j] = img_arr[i,j]\n",
    "                img_arr[i+1,j+1] = img_arr[i,j+1]\n",
    "\n",
    "    img = Image.fromarray(img_arr)\n",
    "    img.show()"
   ]
  },
  {
   "cell_type": "code",
   "execution_count": 14,
   "id": "41277aa0-0161-4fbe-945a-f42a78ab48b6",
   "metadata": {},
   "outputs": [],
   "source": [
    "def first_order_upscale(filename, factor):\n",
    "    img_arr = np.asarray(Image.open(filename))\n",
    "\n",
    "    for k in range(factor):\n",
    "        zeros_arr = np.arange(0,img_arr.shape[0]+1)\n",
    "        buffer = np.insert(np.insert(img_arr, zeros_arr, 0, axis=1), zeros_arr, 0, axis=0)\n",
    "        img_arr = np.insert(np.insert(img_arr, zeros_arr, 0, axis=1), zeros_arr, 0, axis=0)\n",
    "\n",
    "        if img_arr.ndim == 3:\n",
    "            r, c, color = buffer.shape\n",
    "            c_mask = np.array([[[1/4],[1/2],[1/4]],[[1/2],[1],[1/2]],[[1/4],[1/2],[1/4]]])\n",
    "        else:\n",
    "            r, c = buffer.shape\n",
    "            c_mask = np.array([[1/4,1/2,1/4],[1/2,1,1/2],[1/4,1/2,1/4]])\n",
    "            \n",
    "        img_arr = convolve(img_arr, c_mask, mode='valid')\n",
    "    \n",
    "    img_arr = img_arr.astype(np.uint8)\n",
    "    img = Image.fromarray(img_arr)\n",
    "    img.show()"
   ]
  },
  {
   "cell_type": "code",
   "execution_count": 15,
   "id": "1fe7fdda-64de-46fd-95a3-67fc7691a7a9",
   "metadata": {},
   "outputs": [],
   "source": [
    "first_order_upscale('Lenna.png', 1)\n",
    "zero_order_upscale('Lenna.png', 1)"
   ]
  },
  {
   "cell_type": "code",
   "execution_count": null,
   "id": "291bed48-97ee-4ad8-a2e1-bbbed4898be8",
   "metadata": {},
   "outputs": [],
   "source": []
  }
 ],
 "metadata": {
  "kernelspec": {
   "display_name": "Python 3 (ipykernel)",
   "language": "python",
   "name": "python3"
  },
  "language_info": {
   "codemirror_mode": {
    "name": "ipython",
    "version": 3
   },
   "file_extension": ".py",
   "mimetype": "text/x-python",
   "name": "python",
   "nbconvert_exporter": "python",
   "pygments_lexer": "ipython3",
   "version": "3.10.5"
  }
 },
 "nbformat": 4,
 "nbformat_minor": 5
}
